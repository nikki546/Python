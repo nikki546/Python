{
  "nbformat": 4,
  "nbformat_minor": 0,
  "metadata": {
    "colab": {
      "provenance": []
    },
    "kernelspec": {
      "name": "python3",
      "display_name": "Python 3"
    },
    "language_info": {
      "name": "python"
    }
  },
  "cells": [
    {
      "cell_type": "markdown",
      "source": [
        "\n"
      ],
      "metadata": {
        "id": "VMCwR-t6KX9f"
      }
    },
    {
      "cell_type": "code",
      "source": [
        "'''\n",
        "1. What is Python, and why is it popular?\n",
        "\n",
        "Answer:\n",
        "Python is a high-level, interpreted, and general-purpose programming language.\n",
        "It is popular because it is easy to learn, has simple syntax, supports multiple programming paradigms, and has\n",
        "a large collection of libraries for various applications like data science, web development, and AI.\n",
        "'''"
      ],
      "metadata": {
        "id": "rFJAee1XaREm"
      },
      "execution_count": null,
      "outputs": []
    },
    {
      "cell_type": "code",
      "source": [
        "'''\n",
        "\n",
        "2. What is an interpreter in Python?\n",
        "\n",
        "Answer:\n",
        "An interpreter is a program that executes Python code line by line.\n",
        "It translates the human-readable Python code into machine code so the computer can understand and execute it.\n",
        "'''"
      ],
      "metadata": {
        "id": "kmt1BBrVbekZ"
      },
      "execution_count": null,
      "outputs": []
    },
    {
      "cell_type": "code",
      "source": [
        "'''\n",
        "3. What are pre-defined keywords in Python?\n",
        "\n",
        "Answer:\n",
        "Keywords are reserved words in Python that have special meanings and cannot be used as variable names.\n",
        "Examples: if, else, while, for, class, def, True, False, import, return, etc.\n",
        "\n",
        "'''"
      ],
      "metadata": {
        "id": "4QKzlX0COLZM"
      },
      "execution_count": null,
      "outputs": []
    },
    {
      "cell_type": "code",
      "source": [
        "'''\n",
        "4. Can keywords be used as variable names?\n",
        "\n",
        "Answer:\n",
        "No, keywords cannot be used as variable names because they are reserved for specific functions in Python.\n",
        "\n",
        "'''"
      ],
      "metadata": {
        "id": "A4Yk7xWaOLb9"
      },
      "execution_count": null,
      "outputs": []
    },
    {
      "cell_type": "code",
      "source": [
        "'''\n",
        "5. What is mutability in Python?\n",
        "\n",
        "Answer:\n",
        "Mutability refers to the ability of an object to be changed after it is created.\n",
        "If an object’s value can be changed, it is mutable (e.g., lists, dictionaries).\n",
        "If it cannot be changed, it is immutable (e.g., tuples, strings).\n",
        "\n",
        "'''"
      ],
      "metadata": {
        "id": "6UFeVj2MOLem"
      },
      "execution_count": null,
      "outputs": []
    },
    {
      "cell_type": "code",
      "source": [
        "'''\n",
        "\n",
        "6. Why are lists mutable, but tuples are immutable?\n",
        "\n",
        "Answer:\n",
        "Lists are mutable because their elements can be modified, added, or removed after creation.\n",
        "Tuples are immutable because once created, their elements cannot be changed or updated.\n",
        "\n",
        "\n",
        "'''"
      ],
      "metadata": {
        "id": "MFGctSQrcNwA"
      },
      "execution_count": null,
      "outputs": []
    },
    {
      "cell_type": "code",
      "source": [
        "\n",
        "'''7. What is the difference between “==” and “is” operators in Python?\n",
        "\n",
        "Answer:\n",
        "\n",
        "== checks if two values are equal.\n",
        "\n",
        "is checks if two variables refer to the same object in memory.\n",
        "\n",
        "Example:\n",
        "'''\n",
        "a = [1,2]\n",
        "b = [1,2]\n",
        "a == b  # True\n",
        "a is b  # False"
      ],
      "metadata": {
        "colab": {
          "base_uri": "https://localhost:8080/"
        },
        "id": "gdpJJVdPOLj4",
        "outputId": "d7ba4c68-5e64-410e-9b5d-8be569688167"
      },
      "execution_count": null,
      "outputs": [
        {
          "output_type": "execute_result",
          "data": {
            "text/plain": [
              "False"
            ]
          },
          "metadata": {},
          "execution_count": 10
        }
      ]
    },
    {
      "cell_type": "code",
      "source": [
        "'''\n",
        "8. What are logical operators in Python?\n",
        "\n",
        "Answer:\n",
        "Logical operators are used to combine conditional statements.\n",
        "They are:\n",
        "\n",
        "and → True if both conditions are true\n",
        "\n",
        "or → True if at least one condition is true\n",
        "\n",
        "not → Reverses the logical state\n",
        "'''"
      ],
      "metadata": {
        "id": "gfOkl2ZucoAH"
      },
      "execution_count": null,
      "outputs": []
    },
    {
      "cell_type": "code",
      "source": [
        "'''\n",
        "9. What is type casting in Python?\n",
        "\n",
        "Answer:\n",
        "Type casting means converting one data type into another.\n",
        "Example:\n",
        "\n",
        "a = \"5\"\n",
        "b = int(a)  # converts string to integer\n",
        "'''"
      ],
      "metadata": {
        "id": "b31Jo5X7OLpT"
      },
      "execution_count": null,
      "outputs": []
    },
    {
      "cell_type": "code",
      "source": [
        "'''\n",
        "10. What is the difference between implicit and explicit type casting?\n",
        "\n",
        "Answer:\n",
        "\n",
        "Implicit Casting: Done automatically by Python (e.g., int to float).\n",
        "\n",
        "Explicit Casting: Done manually by the programmer using functions like int(), float(), or str().\n",
        "'''"
      ],
      "metadata": {
        "id": "q_kVBEe3OLs3"
      },
      "execution_count": null,
      "outputs": []
    },
    {
      "cell_type": "code",
      "source": [
        "'''\n",
        "11. What is the purpose of conditional statements in Python?\n",
        "\n",
        "Answer:\n",
        "Conditional statements are used to make decisions in programs.\n",
        "They allow the code to execute certain blocks only if specific conditions are true.\n",
        "'''"
      ],
      "metadata": {
        "id": "nU0oDfMePpdp"
      },
      "execution_count": null,
      "outputs": []
    },
    {
      "cell_type": "code",
      "source": [
        "'''12. How does the elif statement work?\n",
        "\n",
        "Answer:\n",
        "elif stands for else if. It is used to check multiple conditions in sequence.\n",
        "If the first if condition is false, it checks the elif condition next.\n",
        "Example:'''\n",
        "x=5\n",
        "if x > 0:\n",
        "    print(\"Positive\")\n",
        "elif x == 0:\n",
        "    print(\"Zero\")\n",
        "else:\n",
        "    print(\"Negative\")"
      ],
      "metadata": {
        "colab": {
          "base_uri": "https://localhost:8080/"
        },
        "id": "pXADbWfVPpaY",
        "outputId": "c8014ca4-cf0e-4513-d330-c653b81b5024"
      },
      "execution_count": null,
      "outputs": [
        {
          "output_type": "stream",
          "name": "stdout",
          "text": [
            "Positive\n"
          ]
        }
      ]
    },
    {
      "cell_type": "code",
      "source": [
        "'''13. What is the difference between for and while loops?\n",
        "\n",
        "Answer:\n",
        "\n",
        "for loop → used when the number of iterations is known.\n",
        "\n",
        "while loop → used when the number of iterations is unknown and depends on a condition.\n",
        "'''"
      ],
      "metadata": {
        "id": "7-y1l1GwPpXt"
      },
      "execution_count": null,
      "outputs": []
    },
    {
      "cell_type": "code",
      "source": [
        "'''\n",
        "14. Describe a scenario where a while loop is more suitable than a for loop.\n",
        "\n",
        "Answer:\n",
        "A while loop is more suitable when we do not know how many times we need to repeat an action.\n",
        "Example: repeatedly asking a user for input until they enter a correct password\n",
        "'''"
      ],
      "metadata": {
        "id": "cxPQuPYvPpU-"
      },
      "execution_count": null,
      "outputs": []
    },
    {
      "cell_type": "code",
      "source": [
        "'''1. Write a Python program to print \"Hello, World!\"'''\n",
        "\n",
        "print(\"Hello, World!\")"
      ],
      "metadata": {
        "colab": {
          "base_uri": "https://localhost:8080/"
        },
        "id": "VzV7qKORP8a2",
        "outputId": "92c2db27-251b-4276-f0ec-3ae16fb05227"
      },
      "execution_count": null,
      "outputs": [
        {
          "output_type": "stream",
          "name": "stdout",
          "text": [
            "Hello, World!\n"
          ]
        }
      ]
    },
    {
      "cell_type": "code",
      "source": [
        "'''2. Write a Python program that displays your name and age.'''\n",
        "\n",
        "name = \"Shreya\"\n",
        "age = 21\n",
        "print(\"Name:\", name)\n",
        "print(\"Age:\", age)"
      ],
      "metadata": {
        "colab": {
          "base_uri": "https://localhost:8080/"
        },
        "id": "cP2rSxBnP8XZ",
        "outputId": "acf73f21-f975-4f72-dd05-c91725318649"
      },
      "execution_count": null,
      "outputs": [
        {
          "output_type": "stream",
          "name": "stdout",
          "text": [
            "Name: Shreya\n",
            "Age: 21\n"
          ]
        }
      ]
    },
    {
      "cell_type": "code",
      "source": [
        "'''3. Write code to print all the pre-defined keywords in Python using the keyword library.'''\n",
        "\n",
        "import keyword\n",
        "print(keyword.kwlist)"
      ],
      "metadata": {
        "colab": {
          "base_uri": "https://localhost:8080/"
        },
        "id": "NGJvBRcdP8UH",
        "outputId": "a122c012-7f6f-49d3-a521-1c3fa4396812"
      },
      "execution_count": null,
      "outputs": [
        {
          "output_type": "stream",
          "name": "stdout",
          "text": [
            "['False', 'None', 'True', 'and', 'as', 'assert', 'async', 'await', 'break', 'class', 'continue', 'def', 'del', 'elif', 'else', 'except', 'finally', 'for', 'from', 'global', 'if', 'import', 'in', 'is', 'lambda', 'nonlocal', 'not', 'or', 'pass', 'raise', 'return', 'try', 'while', 'with', 'yield']\n"
          ]
        }
      ]
    },
    {
      "cell_type": "code",
      "source": [
        "'''4. Write a program that checks if a given word is a Python keyword.'''\n",
        "\n",
        "import keyword\n",
        "\n",
        "word = input(\"Enter a word: \")\n",
        "if keyword.iskeyword(word):\n",
        "    print(f\"{word} is a Python keyword.\")\n",
        "else:\n",
        "    print(f\"{word} is not a Python keyword.\")"
      ],
      "metadata": {
        "colab": {
          "base_uri": "https://localhost:8080/"
        },
        "id": "FzYkU8apP8RI",
        "outputId": "e703e418-7320-4d9d-ec64-e1250606c940"
      },
      "execution_count": null,
      "outputs": [
        {
          "output_type": "stream",
          "name": "stdout",
          "text": [
            "Enter a word: shreya\n",
            "shreya is not a Python keyword.\n"
          ]
        }
      ]
    },
    {
      "cell_type": "code",
      "source": [
        "'''5. Create a list and tuple in Python, and demonstrate how attempting to change an element works differently for each.'''\n",
        "\n",
        "my_list = [1, 2, 3]\n",
        "my_tuple = (1, 2, 3)\n",
        "\n",
        "my_list[0] = 10  # Works\n",
        "print(\"Modified list:\", my_list)\n",
        "\n",
        "try:\n",
        "    my_tuple[0] = 10  # Error\n",
        "except TypeError:\n",
        "    print(\"Tuples are immutable!\")"
      ],
      "metadata": {
        "colab": {
          "base_uri": "https://localhost:8080/"
        },
        "id": "Jqapw6ypP8Of",
        "outputId": "2ffe79a7-6878-41e5-8dd5-c41a983301ca"
      },
      "execution_count": null,
      "outputs": [
        {
          "output_type": "stream",
          "name": "stdout",
          "text": [
            "Modified list: [10, 2, 3]\n",
            "Tuples are immutable!\n"
          ]
        }
      ]
    },
    {
      "cell_type": "code",
      "source": [
        "'''6. Write a function to demonstrate the behavior of mutable and immutable arguments.'''\n",
        "\n",
        "def modify_list(lst):\n",
        "    lst.append(100)  # Mutable\n",
        "\n",
        "def modify_number(num):\n",
        "    num += 10        # Immutable\n",
        "\n",
        "my_list = [1, 2, 3]\n",
        "my_num = 5\n",
        "\n",
        "modify_list(my_list)\n",
        "modify_number(my_num)\n",
        "\n",
        "print(\"List after function call:\", my_list)"
      ],
      "metadata": {
        "colab": {
          "base_uri": "https://localhost:8080/"
        },
        "id": "3VoPx4aGP8Ln",
        "outputId": "e2e9fab3-1a2f-4fc0-eb15-496df777222c"
      },
      "execution_count": null,
      "outputs": [
        {
          "output_type": "stream",
          "name": "stdout",
          "text": [
            "List after function call: [1, 2, 3, 100]\n"
          ]
        }
      ]
    },
    {
      "cell_type": "code",
      "source": [
        "'''7. Write a program that performs basic arithmetic operations on two user-input numbers.'''\n",
        "\n",
        "a = int(input(\"Enter first number: \"))\n",
        "b = int(input(\"Enter second number: \"))\n",
        "\n",
        "print(\"Addition:\", a + b)\n",
        "print(\"Subtraction:\", a - b)\n",
        "print(\"Multiplication:\", a * b)\n",
        "print(\"Division:\", a / b)\n"
      ],
      "metadata": {
        "colab": {
          "base_uri": "https://localhost:8080/"
        },
        "id": "EVp8nokIP8I1",
        "outputId": "39aa1d8a-5c60-4064-855c-85da5e6a5ce1"
      },
      "execution_count": null,
      "outputs": [
        {
          "output_type": "stream",
          "name": "stdout",
          "text": [
            "Enter first number: 123\n",
            "Enter second number: 22\n",
            "Addition: 145\n",
            "Subtraction: 101\n",
            "Multiplication: 2706\n",
            "Division: 5.590909090909091\n"
          ]
        }
      ]
    },
    {
      "cell_type": "code",
      "source": [
        "\n",
        "'''8. Write a program to demonstrate the use of logical operators.'''\n",
        "\n",
        "x = 10\n",
        "y = 5\n",
        "\n",
        "print(x > 5 and y < 10)   # True\n",
        "print(x < 5 or y < 10)    # True\n",
        "print(not(x > y))         # False\n"
      ],
      "metadata": {
        "colab": {
          "base_uri": "https://localhost:8080/"
        },
        "id": "49JmlQL-RRhD",
        "outputId": "f5fcf7c8-c1ac-4012-d944-a0d9ff7c0e00"
      },
      "execution_count": null,
      "outputs": [
        {
          "output_type": "stream",
          "name": "stdout",
          "text": [
            "True\n",
            "True\n",
            "False\n"
          ]
        }
      ]
    },
    {
      "cell_type": "code",
      "source": [
        "'''9. Write a Python program to convert user input from string to integer, float, and boolean types.'''\n",
        "\n",
        "value = input(\"Enter a number: \")\n",
        "\n",
        "int_value = int(value)\n",
        "float_value = float(value)\n",
        "bool_value = bool(value)\n",
        "\n",
        "print(\"Integer:\", int_value)\n",
        "print(\"Float:\", float_value)\n",
        "print(\"Boolean:\", bool_value)\n"
      ],
      "metadata": {
        "colab": {
          "base_uri": "https://localhost:8080/"
        },
        "id": "jd9pfzh4RRdj",
        "outputId": "fd35bbd2-34c0-4cd0-c4d1-310f67b94621"
      },
      "execution_count": null,
      "outputs": [
        {
          "output_type": "stream",
          "name": "stdout",
          "text": [
            "Enter a number: 111\n",
            "Integer: 111\n",
            "Float: 111.0\n",
            "Boolean: True\n"
          ]
        }
      ]
    },
    {
      "cell_type": "code",
      "source": [
        "'''10. Write code to demonstrate type casting with list elements.'''\n",
        "\n",
        "num_list = [\"10\", \"20\", \"30\"]\n",
        "int_list = [int(i) for i in num_list]\n",
        "print(\"Converted list:\", int_list)\n"
      ],
      "metadata": {
        "colab": {
          "base_uri": "https://localhost:8080/"
        },
        "outputId": "b8e5c181-489a-4b8f-f4cb-919b560deb75",
        "id": "VLbHoDfAenQ9"
      },
      "execution_count": null,
      "outputs": [
        {
          "output_type": "stream",
          "name": "stdout",
          "text": [
            "Converted list: [10, 20, 30]\n"
          ]
        }
      ]
    },
    {
      "cell_type": "code",
      "source": [
        "\n",
        "'''11. Write a program that checks if a number is positive, negative, or zero.\n",
        "'''\n",
        "num = int(input(\"Enter a number: \"))\n",
        "\n",
        "if num > 0:\n",
        "    print(\"Positive\")\n",
        "elif num == 0:\n",
        "    print(\"Zero\")\n",
        "else:\n",
        "    print(\"Negative\")\n"
      ],
      "metadata": {
        "colab": {
          "base_uri": "https://localhost:8080/"
        },
        "id": "nth6zK3URRXa",
        "outputId": "fa313c7f-1950-4959-b425-155e01ed1d48"
      },
      "execution_count": null,
      "outputs": [
        {
          "output_type": "stream",
          "name": "stdout",
          "text": [
            "Enter a number: -55\n",
            "Negative\n"
          ]
        }
      ]
    },
    {
      "cell_type": "code",
      "source": [
        "\n",
        "'''12. Write a for loop to print numbers from 1 to 10.'''\n",
        "\n",
        "for i in range(1, 11):\n",
        "    print(i)\n"
      ],
      "metadata": {
        "colab": {
          "base_uri": "https://localhost:8080/"
        },
        "id": "4jpUBY5ERRUi",
        "outputId": "18427684-ff42-4eb4-b08c-4546ecfb7a83"
      },
      "execution_count": null,
      "outputs": [
        {
          "output_type": "stream",
          "name": "stdout",
          "text": [
            "1\n",
            "2\n",
            "3\n",
            "4\n",
            "5\n",
            "6\n",
            "7\n",
            "8\n",
            "9\n",
            "10\n"
          ]
        }
      ]
    },
    {
      "cell_type": "code",
      "source": [
        "'''13. Write a Python program to find the sum of all even numbers between 1 and 50.\n",
        "'''\n",
        "sum_even = 0\n",
        "for i in range(1, 51):\n",
        "    if i % 2 == 0:\n",
        "        sum_even += i\n",
        "print(\"Sum of even numbers from 1 to 50 is:\", sum_even)\n",
        "\n",
        "\n"
      ],
      "metadata": {
        "colab": {
          "base_uri": "https://localhost:8080/"
        },
        "id": "HlEG1i79RRRw",
        "outputId": "e39fa429-1c3b-49ac-b8a4-e079982438f4"
      },
      "execution_count": null,
      "outputs": [
        {
          "output_type": "stream",
          "name": "stdout",
          "text": [
            "Sum of even numbers from 1 to 50 is: 650\n"
          ]
        }
      ]
    },
    {
      "cell_type": "code",
      "source": [
        "'''14. Write a program to reverse a string using a while loop.'''\n",
        "\n",
        "string = input(\"Enter a string: \")\n",
        "reversed_str = \"\"\n",
        "i = len(string) - 1\n",
        "\n",
        "while i >= 0:\n",
        "    reversed_str += string[i]\n",
        "    i -= 1\n",
        "\n",
        "print(\"Reversed string:\", reversed_str)\n"
      ],
      "metadata": {
        "colab": {
          "base_uri": "https://localhost:8080/"
        },
        "id": "bOkXxsrdRRO5",
        "outputId": "98cac41f-81dd-4f21-fa68-5e3b2ec30b92"
      },
      "execution_count": null,
      "outputs": [
        {
          "output_type": "stream",
          "name": "stdout",
          "text": [
            "Enter a string: 55\n",
            "Reversed string: 55\n"
          ]
        }
      ]
    },
    {
      "cell_type": "code",
      "source": [
        "\n",
        "'''15. Write a Python program to calculate the factorial of a number provided by the user using a while loop.\n",
        "'''\n",
        "num = int(input(\"Enter a number: \"))\n",
        "factorial = 1\n",
        "i = 1\n",
        "\n",
        "while i <= num:\n",
        "    factorial *= i\n",
        "    i += 1\n",
        "\n",
        "print(\"Factorial of\", num, \"is:\", factorial)\n"
      ],
      "metadata": {
        "colab": {
          "base_uri": "https://localhost:8080/"
        },
        "id": "kmr0LxTWSb86",
        "outputId": "4017d4bf-91d6-4081-bb06-a5900f243af7"
      },
      "execution_count": null,
      "outputs": [
        {
          "output_type": "stream",
          "name": "stdout",
          "text": [
            "Enter a number: 12\n",
            "Factorial of 12 is: 479001600\n"
          ]
        }
      ]
    },
    {
      "cell_type": "code",
      "source": [],
      "metadata": {
        "id": "9G-Hamlpi66l"
      },
      "execution_count": null,
      "outputs": []
    }
  ]
}